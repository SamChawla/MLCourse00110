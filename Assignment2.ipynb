{
 "cells": [
  {
   "cell_type": "markdown",
   "metadata": {},
   "source": [
    "## Assignment 2\n",
    "\n",
    "# Task 1\n",
    "\n",
    "1.1 Write a Python Program to implement your own myreduce() function which works exactly like\n",
    "Python's built-in function reduce()"
   ]
  },
  {
   "cell_type": "code",
   "execution_count": 40,
   "metadata": {},
   "outputs": [],
   "source": [
    "def myreduce(function, sequence, initial=None):\n",
    "    \"\"\"\n",
    "    Own implementation of builtin reduce() function\n",
    "    \"\"\"\n",
    "\n",
    "    iter_sequence = iter(sequence)\n",
    "\n",
    "    if initial is None:\n",
    "        try:\n",
    "            value = next(iter_sequence)\n",
    "        except StopIteration:\n",
    "            raise TypeError(\"Empty sequence passed.\") from None\n",
    "    else:\n",
    "        value = initial\n",
    "\n",
    "    for element in iter_sequence:\n",
    "        value = function(value, element)\n",
    "\n",
    "    return value\n"
   ]
  },
  {
   "cell_type": "code",
   "execution_count": 42,
   "metadata": {},
   "outputs": [
    {
     "name": "stdout",
     "output_type": "stream",
     "text": [
      "15\n"
     ]
    }
   ],
   "source": [
    "print(myreduce(lambda x,y: x+y, [1, 2, 3, 4, 5]))"
   ]
  },
  {
   "cell_type": "markdown",
   "metadata": {},
   "source": [
    "1.2 Write a Python program to implement your own myfilter() function which works exactly like\n",
    "Python's built-in function filter()"
   ]
  },
  {
   "cell_type": "code",
   "execution_count": 60,
   "metadata": {},
   "outputs": [],
   "source": [
    "def myfilter(function=None,sequence=[]):\n",
    "    result = []\n",
    "    if function is None:\n",
    "        result = sequence\n",
    "    else:\n",
    "        for val in sequence:\n",
    "            if function(val):\n",
    "                result.append(val)\n",
    "    for val in result:\n",
    "        yield val"
   ]
  },
  {
   "cell_type": "code",
   "execution_count": 63,
   "metadata": {},
   "outputs": [
    {
     "name": "stdout",
     "output_type": "stream",
     "text": [
      "custom_filter: <generator object myfilter at 0x7f1e1c39f390>\n",
      "1\n",
      "2\n",
      "3\n",
      "builtin_filter:  <filter object at 0x7f1e1c34cb38>\n",
      "1\n",
      "2\n",
      "3\n"
     ]
    }
   ],
   "source": [
    "# My Implementation\n",
    "custom_filter = myfilter(lambda x:x,[1,2,3])\n",
    "print(\"custom_filter:\", custom_filter)\n",
    "for val in custom_filter:\n",
    "    print(val)\n",
    "\n",
    "# BuiltinFilter\n",
    "builtin_filter = filter(lambda x:x,[1,2,3])\n",
    "print(\"builtin_filter: \", builtin_filter)\n",
    "\n",
    "for val in builtin_filter:\n",
    "    print(val)"
   ]
  },
  {
   "cell_type": "markdown",
   "metadata": {},
   "source": [
    "2. Implement List comprehensions to produce the following lists.\n",
    "Write List comprehensions to produce the following Lists\n",
    "\n",
    "['A', 'C', 'A', 'D', 'G', 'I', ’L’, ‘ D’] <br>\n",
    "['x', 'xx', 'xxx', 'xxxx', 'y', 'yy', 'yyy', 'yyyy', 'z', 'zz', 'zzz', 'zzzz']<br>\n",
    "['x', 'y', 'z', 'xx', 'yy', 'zz', 'xx', 'yy', 'zz', 'xxxx', 'yyyy', 'zzzz']<br>\n",
    "[[2], [3], [4], [3], [4], [5], [4], [5], [6]]<br>\n",
    "[[2, 3, 4, 5], [3, 4, 5, 6], [4, 5, 6, 7], [5, 6, 7, 8]]<br>\n",
    "[(1, 1), (2, 1), (3, 1), (1, 2), (2, 2), (3, 2), (1, 3), (2, 3), (3, 3)]<br>"
   ]
  },
  {
   "cell_type": "code",
   "execution_count": 64,
   "metadata": {},
   "outputs": [
    {
     "name": "stdout",
     "output_type": "stream",
     "text": [
      "['A', 'C', 'A', 'D', 'G', 'I', 'L', 'D']\n",
      "['x', 'xx', 'xxx', 'xxxx', 'y', 'yy', 'yyy', 'yyyy', 'z', 'zz', 'zzz', 'zzzz']\n",
      "['x', 'y', 'z', 'xx', 'yy', 'zz', 'xx', 'yy', 'zz', 'xxxx', 'yyyy', 'zzzz']\n",
      "['x', 'y', 'z', 'xx', 'yy', 'zz', 'xxx', 'yyy', 'zzz', 'xxxx', 'yyyy', 'zzzz']\n",
      "[[2], [3], [4], [3], [4], [5], [4], [5], [6]]\n",
      "[[2, 3, 4, 5], [3, 4, 5, 6], [4, 5, 6, 7], [5, 6, 7, 8]]\n",
      "[(1, 1), (2, 1), (3, 1), (1, 2), (2, 2), (3, 2), (1, 3), (2, 3), (3, 3)]\n"
     ]
    }
   ],
   "source": [
    "# Printing 1st pattern\n",
    "print([x for x in 'ACADGILD'])\n",
    "\n",
    "# Extending Pattern in list and printing it.\n",
    "pattern2 = []\n",
    "[pattern2.extend([temp,temp*2,temp*3,temp*4]) for temp in 'xyz']\n",
    "print(pattern2)\n",
    "\n",
    "# Pattern3\n",
    "def pattern(sequence,repeat):\n",
    "    return [temp*repeat for temp in sequence]\n",
    "\n",
    "pattern3 = []\n",
    "pattern3.extend(pattern('xyz',1))\n",
    "pattern3.extend(pattern('xyz',2)*2)\n",
    "pattern3.extend(pattern('xyz',4))\n",
    "print(pattern3)\n",
    "\n",
    "# If the above pattern is a typo in question as pattern should be \n",
    "#['x', 'y', 'z', 'xx', 'yy', 'zz', 'xxx', 'yyy', 'zzz', 'xxxx', 'yyyy', 'zzzz']\n",
    "# I have done that part too as pattern3_1\n",
    "\n",
    "# Pattern3_1\n",
    "pattern3_1 = []\n",
    "for val in range(1,5):\n",
    "    pattern3_1.extend(pattern('xyz',val))\n",
    "print(pattern3_1)\n",
    "\n",
    "# Pattern4\n",
    "pattern4 = []\n",
    "for n in range(2,5):\n",
    "    pattern4.extend([[n],[n+1],[n+2]])\n",
    "print(pattern4)\n",
    "\n",
    "# Pattern5\n",
    "pattern5 = []\n",
    "for n in range(2,6):\n",
    "    pattern5.append([n, n+1, n+2, n+3])\n",
    "print(pattern5)\n",
    "\n",
    "# Pattern6\n",
    "pattern6 = []\n",
    "for x in range(1,4):\n",
    "    for y in range(1,4):\n",
    "        pattern6.extend([(y,x)])\n",
    "print(pattern6)\n"
   ]
  },
  {
   "cell_type": "markdown",
   "metadata": {},
   "source": [
    "3 . Implement a function longestWord() that takes a list of words and returns the longest one."
   ]
  },
  {
   "cell_type": "code",
   "execution_count": 23,
   "metadata": {},
   "outputs": [],
   "source": [
    "def longestWord(words):\n",
    "    \"\"\"\n",
    "    Function that takes a list fo words and return the longest word in the sequence.\n",
    "    In Case of two or more words of same length,\n",
    "    it return the last word.\n",
    "    \"\"\"\n",
    "    if not isinstance(words,list):\n",
    "        print(\"Argument passed should be list\")\n",
    "        return \"\"\n",
    "    longest_word = \"\"\n",
    "    for word in words:\n",
    "        if len(word) >= len(longest_word):\n",
    "            longest_word = word\n",
    "    return longest_word"
   ]
  },
  {
   "cell_type": "code",
   "execution_count": 24,
   "metadata": {},
   "outputs": [
    {
     "data": {
      "text/plain": [
       "'Python3'"
      ]
     },
     "execution_count": 24,
     "metadata": {},
     "output_type": "execute_result"
    }
   ],
   "source": [
    "longestWord(['Python','Python2','Python3'])"
   ]
  },
  {
   "cell_type": "markdown",
   "metadata": {},
   "source": [
    "## TASK 2\n",
    "\n",
    "1.1 Write a Python Program(with class concepts) to find the area of the triangle using the below\n",
    "formula.<br>\n",
    "area = (s*(s-a)*(s-b)*(s-c)) ** 0.5 <br>\n",
    "Function to take the length of the sides of triangle from user should be defined in the parent\n",
    "class and function to calculate the area should be defined in subclass."
   ]
  },
  {
   "cell_type": "code",
   "execution_count": 49,
   "metadata": {},
   "outputs": [],
   "source": [
    "class Triangle:\n",
    "    \"\"\"\n",
    "    Base class that takes sides of a Triangle.\n",
    "    \"\"\"\n",
    "    \n",
    "    def __init__(self, a, b, c):\n",
    "        self._a = a\n",
    "        self._b = b\n",
    "        self._c = c\n",
    "    \n",
    "    def __str__(self):\n",
    "        return \"Sides of Triangle are %s, %s and %s\" %(self._a,self._b,self._c)\n",
    "    \n",
    "class Area(Triangle):\n",
    "    \"\"\"\n",
    "    Calculates Area of triangle using Heron's Formula\n",
    "    \"\"\"\n",
    "    def __init__(self, a, b, c):\n",
    "        super(Area, self).__init__(a, b, c)\n",
    "        self._s = (a + b + c)/2\n",
    "\n",
    "    def area(self):\n",
    "        return (self._s*(self._s - self._a)*(self._s - self._b)*(self._s - self._c))**0.5\n",
    "    "
   ]
  },
  {
   "cell_type": "code",
   "execution_count": 47,
   "metadata": {},
   "outputs": [
    {
     "name": "stdout",
     "output_type": "stream",
     "text": [
      "Area of Triangle is:  6.0\n"
     ]
    }
   ],
   "source": [
    "area = Area(3, 4, 5)\n",
    "print(\"Area of Triangle is: \", area.area())"
   ]
  },
  {
   "cell_type": "markdown",
   "metadata": {},
   "source": [
    "1.2 Write a function filter_long_words() that takes a list of words and an integer n and returns the list\n",
    "of words that are longer than n."
   ]
  },
  {
   "cell_type": "code",
   "execution_count": 48,
   "metadata": {},
   "outputs": [],
   "source": [
    "\n",
    "def filter_long_words(words,n):\n",
    "    \"\"\"\n",
    "    This function takes a list of words and an integer n and returns the list of words that are longer than n\n",
    "    \"\"\"\n",
    "    return list(filter(lambda x: len(x)>n,words))\n",
    "    "
   ]
  },
  {
   "cell_type": "code",
   "execution_count": 28,
   "metadata": {},
   "outputs": [
    {
     "data": {
      "text/plain": [
       "['reduce', 'filter', 'lambda']"
      ]
     },
     "execution_count": 28,
     "metadata": {},
     "output_type": "execute_result"
    }
   ],
   "source": [
    "filter_long_words([\"map\",\"reduce\",\"filter\",\"lambda\"],5)"
   ]
  },
  {
   "cell_type": "markdown",
   "metadata": {},
   "source": [
    "2.1 Write a Python program using function concept that maps list of words into a list of integers\n",
    "representing the lengths of the corresponding words ."
   ]
  },
  {
   "cell_type": "code",
   "execution_count": 31,
   "metadata": {},
   "outputs": [],
   "source": [
    "def word_to_len(words):\n",
    "    \"\"\"\n",
    "    Maps list of words into a list of integers representing the lengths of the corresponding words.\n",
    "    If a list [ 'ab','cde','erty'] is passed on to the python function output should come as [2,3,4]\n",
    "    \"\"\"\n",
    "    return list(map(lambda x: len(x),words))"
   ]
  },
  {
   "cell_type": "code",
   "execution_count": 32,
   "metadata": {},
   "outputs": [
    {
     "data": {
      "text/plain": [
       "[2, 3, 4]"
      ]
     },
     "execution_count": 32,
     "metadata": {},
     "output_type": "execute_result"
    }
   ],
   "source": [
    "word_to_len(['ab','cde','erty'])"
   ]
  },
  {
   "cell_type": "markdown",
   "metadata": {},
   "source": [
    "2.2 Write a Python function which takes a character (i.e. a string of length 1) and returns True if it is\n",
    "a vowel, False otherwise."
   ]
  },
  {
   "cell_type": "code",
   "execution_count": 38,
   "metadata": {},
   "outputs": [],
   "source": [
    "def check_vowel(character):\n",
    "    \"\"\"\n",
    "    It takes a character (i.e. a string of length 1) and returns True if it is a vowel, False otherwise.\n",
    "    Return False in case of character length greater than 1.\n",
    "    \"\"\"\n",
    "    vowels = ['a','e','i','o','u']\n",
    "    return character.lower() in vowels"
   ]
  },
  {
   "cell_type": "code",
   "execution_count": 39,
   "metadata": {},
   "outputs": [
    {
     "name": "stdout",
     "output_type": "stream",
     "text": [
      "True\n",
      "False\n"
     ]
    }
   ],
   "source": [
    "print(check_vowel('a'))\n",
    "print(check_vowel('S'))"
   ]
  }
 ],
 "metadata": {
  "kernelspec": {
   "display_name": "Python 3",
   "language": "python",
   "name": "python3"
  },
  "language_info": {
   "codemirror_mode": {
    "name": "ipython",
    "version": 3
   },
   "file_extension": ".py",
   "mimetype": "text/x-python",
   "name": "python",
   "nbconvert_exporter": "python",
   "pygments_lexer": "ipython3",
   "version": "3.7.3"
  }
 },
 "nbformat": 4,
 "nbformat_minor": 2
}
