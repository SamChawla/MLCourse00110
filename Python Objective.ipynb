{
 "cells": [
  {
   "cell_type": "markdown",
   "metadata": {},
   "source": [
    "### <p style=\"text-align: center;\"> PYTHON Objective Practise Questions </p>\n",
    "***\n",
    "\n",
    "__* Answers are in bold__\n",
    "\n",
    "***\n",
    "\n",
    "### Q1. How can we create an iterator object from a list?\n",
    "a) Bypassing the given list to the iter() function<br>\n",
    "b) By using a for a loop.<br>\n",
    "c) By using a while loop.<br>\n",
    "d) You cannot create an iterable object<br>\n",
    "<br>\n",
    "\n",
    "***\n",
    "\n",
    "### Q2. If the function contains at least of one “yield” statement, then it becomes ______\n",
    "<br> Choose one <br>\n",
    "a) An iterable <br>\n",
    "b) a generator function <br>\n",
    "c) an anonymous function <br>\n",
    "d) None of the above <br>\n",
    "\n",
    "***"
   ]
  },
  {
   "cell_type": "code",
   "execution_count": null,
   "metadata": {},
   "outputs": [],
   "source": []
  }
 ],
 "metadata": {
  "kernelspec": {
   "display_name": "Python 3",
   "language": "python",
   "name": "python3"
  },
  "language_info": {
   "codemirror_mode": {
    "name": "ipython",
    "version": 3
   },
   "file_extension": ".py",
   "mimetype": "text/x-python",
   "name": "python",
   "nbconvert_exporter": "python",
   "pygments_lexer": "ipython3",
   "version": "3.7.3"
  }
 },
 "nbformat": 4,
 "nbformat_minor": 2
}
