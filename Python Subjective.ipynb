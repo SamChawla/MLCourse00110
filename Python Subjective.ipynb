{
 "cells": [
  {
   "cell_type": "markdown",
   "metadata": {},
   "source": [
    "### <p style=\"text-align: center;\"> PYTHON Subjective Questions </p>\n",
    "***\n"
   ]
  },
  {
   "cell_type": "markdown",
   "metadata": {},
   "source": [
    "## Q1. Write a Python program to get the string from the given string where all the occurrence of its first char has been changed to '$\t\\$ $' except first char itself?\n",
    "\n",
    "<br> Sample String: 'prospect'\n",
    "<br> Expected Result : 'pros$ect'"
   ]
  },
  {
   "cell_type": "code",
   "execution_count": 1,
   "metadata": {},
   "outputs": [
    {
     "data": {
      "text/plain": [
       "'pros$ect'"
      ]
     },
     "execution_count": 1,
     "metadata": {},
     "output_type": "execute_result"
    }
   ],
   "source": [
    "def update_text(text):\n",
    "    first_char = text[0]\n",
    "    original_text = text\n",
    "    updated_text = text\n",
    "    \n",
    "    if len(original_text) > 1:\n",
    "        updated_text = first_char + original_text[1:].replace(first_char, '$')\n",
    "    return updated_text\n",
    "    \n",
    "\n",
    "update_text('prospect')"
   ]
  },
  {
   "cell_type": "markdown",
   "metadata": {},
   "source": [
    "## Q2. Write a Python program to get the single string from the two given strings, and separated by the space and swap the first two characters of each string?\n",
    "<br>\n",
    "Sample String : 'abc', 'xyz'.<br>\n",
    "Expected Result: 'xyc abz'"
   ]
  },
  {
   "cell_type": "code",
   "execution_count": 2,
   "metadata": {},
   "outputs": [
    {
     "data": {
      "text/plain": [
       "'xyc abz'"
      ]
     },
     "execution_count": 2,
     "metadata": {},
     "output_type": "execute_result"
    }
   ],
   "source": [
    "def concat_text(text1, text2):\n",
    "    temp1 = text1[:2]\n",
    "    temp2 = text2[:2]\n",
    "    final_text = \"%s%s %s%s\" %(temp2, text1[2:], temp1, text2[2:])\n",
    "    return final_text\n",
    "\n",
    "concat_text(\"abc\", \"xyz\")\n"
   ]
  },
  {
   "cell_type": "markdown",
   "metadata": {},
   "source": [
    "## Q3. Write the Python program to add 'ing' at the end of the given string (length of the string should be at least 3). If given string already ends with 'ing,' then add 'ly' instead. If string length of the given string is less than 3, leave it unchanged?\n",
    "<br>\n",
    "Sample string: ' abc ' <br>\n",
    "Expected result: ' abcing ' <br>\n",
    "Sample string: ' string ' <br>\n",
    "Expected result: ' stringly ' <br>"
   ]
  },
  {
   "cell_type": "code",
   "execution_count": 3,
   "metadata": {},
   "outputs": [
    {
     "name": "stdout",
     "output_type": "stream",
     "text": [
      "Length Less than 3:  ab\n",
      "Normal Text:  abcing\n",
      "Text ending with `ing`:  stringly\n"
     ]
    }
   ],
   "source": [
    "def update_text_end(text):\n",
    "    if len(text) < 3:\n",
    "        return text\n",
    "    end = text[-3:]\n",
    "    if end == \"ing\":\n",
    "        return \"%s%s\" %(text, \"ly\")\n",
    "    else:\n",
    "        return \"%s%s\" %(text, \"ing\")\n",
    "\n",
    "print(\"Length Less than 3: \", update_text_end(\"ab\"))\n",
    "print(\"Normal Text: \", update_text_end(\"abc\"))\n",
    "print(\"Text ending with `ing`: \", update_text_end(\"string\"))"
   ]
  },
  {
   "cell_type": "markdown",
   "metadata": {},
   "source": [
    "## Q4. Write the Python program to find the first appearance of the substring 'not' and 'poor' from the given string, if 'not' follows the 'poor', replace the whole 'not'...' poor' substring with 'good'.Return the resulting string. \n",
    "<br>\n",
    "Sample string: 'The lyrics are not that poor!'<br>\n",
    "'The lyrics are good!' <br>\n",
    "Expected Result: 'The lyrics are good!' <br>\n",
    "'The lyrics are good!'\n",
    " <br>"
   ]
  },
  {
   "cell_type": "code",
   "execution_count": 4,
   "metadata": {},
   "outputs": [
    {
     "name": "stdout",
     "output_type": "stream",
     "text": [
      "The lyrics are good!\n",
      "The lyrics are good!\n"
     ]
    }
   ],
   "source": [
    "def update_text(text):\n",
    "    text_not = text.find(\"not\")\n",
    "    if text_not == -1:\n",
    "        return text\n",
    "    text_poor = text.find(\"poor\")\n",
    "    if text_poor > text_not:\n",
    "        text = text.replace(text[text_not:text_poor+4], \"good\")\n",
    "    return text\n",
    "\n",
    "print(update_text(\"The lyrics are not that poor!\"))\n",
    "print(update_text(\"The lyrics are good!\"))"
   ]
  },
  {
   "cell_type": "markdown",
   "metadata": {},
   "source": [
    "## Q5. Write the Python program to remove the characters which have odd index values of a given string.\n"
   ]
  },
  {
   "cell_type": "code",
   "execution_count": 5,
   "metadata": {},
   "outputs": [
    {
     "name": "stdout",
     "output_type": "stream",
     "text": [
      "Mcieerig\n",
      "Pto\n"
     ]
    }
   ],
   "source": [
    "def remove_odds(text):\n",
    "    return text[::2]\n",
    "\n",
    "print(remove_odds(\"MachineLearning\"))\n",
    "print(remove_odds(\"Python\"))"
   ]
  },
  {
   "cell_type": "markdown",
   "metadata": {},
   "source": [
    "## Q6. Write the Python function to get a string made of 4 copies of the last two characters of the specified string (length must be at least 2).\n",
    "<br>\n",
    "Sample function and result : <br>\n",
    "insert-end ('Python') -> onononon <br>\n",
    "insert-end('Exercises') -> eseseses <br>"
   ]
  },
  {
   "cell_type": "code",
   "execution_count": 6,
   "metadata": {},
   "outputs": [
    {
     "name": "stdout",
     "output_type": "stream",
     "text": [
      "onononon\n",
      "eseseses\n"
     ]
    }
   ],
   "source": [
    "def insert_end(text):\n",
    "    \"\"\"\n",
    "    Length of the text should be min. of 2 characters.\n",
    "    \"\"\"\n",
    "    return text[-2:]*4\n",
    "\n",
    "print(insert_end(\"Python\"))\n",
    "print(insert_end(\"Exercises\"))"
   ]
  },
  {
   "cell_type": "markdown",
   "metadata": {},
   "source": [
    "## Q7. Write the python function to get a string made of its first three characters of a specified string. If the length of the string is less than 3 then return the original string.\n",
    " Sample function and result :\n",
    "<br>first-three('ipy') -> ipy\n",
    "<br>first-three('python') -> pyt"
   ]
  },
  {
   "cell_type": "code",
   "execution_count": 7,
   "metadata": {},
   "outputs": [
    {
     "name": "stdout",
     "output_type": "stream",
     "text": [
      "ipy\n",
      "pyt\n"
     ]
    }
   ],
   "source": [
    "def first_three(text):\n",
    "    if len(text) < 3:\n",
    "        return text\n",
    "    return text[:3]\n",
    "\n",
    "print(first_three(\"ipy\"))\n",
    "print(first_three(\"python\"))"
   ]
  },
  {
   "cell_type": "markdown",
   "metadata": {},
   "source": [
    "## Q8. Write the python program to print the following floating numbers up to 2 decimal places?"
   ]
  },
  {
   "cell_type": "code",
   "execution_count": 8,
   "metadata": {},
   "outputs": [
    {
     "name": "stdout",
     "output_type": "stream",
     "text": [
      "2.37\n",
      "3.00\n"
     ]
    }
   ],
   "source": [
    "def format_float(number):\n",
    "    return \"%.2f\" %(number)\n",
    "\n",
    "print(format_float(2.36578))\n",
    "print(format_float(2.9999))"
   ]
  },
  {
   "cell_type": "markdown",
   "metadata": {},
   "source": [
    "## Q9. Write the Python program to format a number with a percentage?"
   ]
  },
  {
   "cell_type": "code",
   "execution_count": 9,
   "metadata": {},
   "outputs": [
    {
     "name": "stdout",
     "output_type": "stream",
     "text": [
      "50.00%\n",
      "150.00%\n"
     ]
    }
   ],
   "source": [
    "def num_to_percent(number):\n",
    "    return \"{:.2%}\".format(number)\n",
    "\n",
    "print(num_to_percent(0.5))\n",
    "print(num_to_percent(1.5))"
   ]
  },
  {
   "cell_type": "markdown",
   "metadata": {},
   "source": [
    "## Q10. Write the Python program to count occurrences of a substring in a String?"
   ]
  },
  {
   "cell_type": "code",
   "execution_count": 10,
   "metadata": {},
   "outputs": [
    {
     "name": "stdout",
     "output_type": "stream",
     "text": [
      "2\n",
      "13\n"
     ]
    }
   ],
   "source": [
    "def sub_str_count(string, substring):\n",
    "    return string.count(substring)\n",
    "\n",
    "print(sub_str_count(\"Python Programming\", \"P\"))\n",
    "print(sub_str_count(\"iiiiiiiiiiiii\", \"i\"))"
   ]
  },
  {
   "cell_type": "markdown",
   "metadata": {},
   "source": [
    "## Q11. Write the Python program to count repeated characters in a string.\n",
    "<br> \n",
    "Sample string: ' thequickbrownjumpsoverthelazydog '<br>\n",
    "Expected output:<br>\n",
    "o 3<br>\n",
    "e 3<br>\n",
    "u 2<br>\n",
    "h 2<br>\n",
    "r 2<br>\n",
    "t 2<br>"
   ]
  },
  {
   "cell_type": "code",
   "execution_count": 11,
   "metadata": {},
   "outputs": [
    {
     "name": "stdout",
     "output_type": "stream",
     "text": [
      "e 3\n",
      "o 3\n",
      "t 2\n",
      "h 2\n",
      "u 2\n",
      "r 2\n"
     ]
    }
   ],
   "source": [
    "from collections import Counter\n",
    "\n",
    "def most_common(text):\n",
    "    count = Counter(text)\n",
    "\n",
    "    for data in count.most_common():\n",
    "        if data[1] > 1:\n",
    "            print(data[0], data[1])\n",
    "        \n",
    "most_common(\"thequickbrownjumpsoverthelazydog\")"
   ]
  },
  {
   "cell_type": "markdown",
   "metadata": {},
   "source": [
    "## Q12. Write the Python program to print the square and cube symbol in the area of a rectangle and volume of a cylinder?\n",
    "Sample output-<br>\n",
    "The area of the rectangle is 1256.66cm<sup>2</sup><br>\n",
    "The volume of the cylinder is 1254.725cm<sup>3<sup><br>"
   ]
  },
  {
   "cell_type": "code",
   "execution_count": 12,
   "metadata": {},
   "outputs": [
    {
     "name": "stdout",
     "output_type": "stream",
     "text": [
      "The area of the rectangle is 1256.66cm²\n",
      "The volume of the cylinder is 1256.66cm³\n"
     ]
    }
   ],
   "source": [
    "area = 1256.66\n",
    "volume = 1254.723\n",
    "print(\"The area of the rectangle is %scm\\u00b2\" %(area))\n",
    "print(\"The volume of the cylinder is %scm\\u00b3\" %(area))"
   ]
  },
  {
   "cell_type": "markdown",
   "metadata": {},
   "source": [
    "## Q13. Write the Python program to check if a string contains all letters of the alphabet?"
   ]
  },
  {
   "cell_type": "code",
   "execution_count": 13,
   "metadata": {},
   "outputs": [
    {
     "name": "stdout",
     "output_type": "stream",
     "text": [
      "True\n",
      "False\n"
     ]
    }
   ],
   "source": [
    "from string import ascii_lowercase\n",
    "\n",
    "def all_letters(string):\n",
    "    return set(string.lower()) >= set(ascii_lowercase)\n",
    "\n",
    "print(all_letters(\"abcdefghiJKLMNOPqrstuvWxYz\"))\n",
    "print(all_letters(\"aabbccddeeffghijklmnopqrstuvwxqndjwned\"))"
   ]
  },
  {
   "cell_type": "markdown",
   "metadata": {},
   "source": [
    "## Q14. Write the Python program to find the second most repeated word in a given string?"
   ]
  },
  {
   "cell_type": "code",
   "execution_count": 19,
   "metadata": {},
   "outputs": [
    {
     "name": "stdout",
     "output_type": "stream",
     "text": [
      "('of', 2)\n"
     ]
    }
   ],
   "source": [
    "from collections import Counter\n",
    "def word_count(words):\n",
    "    words = words.split()\n",
    "    count = Counter(words)\n",
    "    return count.most_common(2)[1]\n",
    "\n",
    "print(word_count(\"of of the the the world\"))"
   ]
  },
  {
   "cell_type": "markdown",
   "metadata": {},
   "source": [
    "## Q15. Write the Python program to find the minimum window in the given string, which will contains all the characters of another given strings? <br>\n",
    "\n",
    "Example 1 <br>\n",
    "Input : string1 = \" PRWSOERIUSFK \" <br>\n",
    "string2 = \" OSU \" <br>\n",
    "Output: Minimum window is \"OERIUS\" <br>\n"
   ]
  },
  {
   "cell_type": "code",
   "execution_count": null,
   "metadata": {},
   "outputs": [],
   "source": []
  }
 ],
 "metadata": {
  "kernelspec": {
   "display_name": "Python 3",
   "language": "python",
   "name": "python3"
  },
  "language_info": {
   "codemirror_mode": {
    "name": "ipython",
    "version": 3
   },
   "file_extension": ".py",
   "mimetype": "text/x-python",
   "name": "python",
   "nbconvert_exporter": "python",
   "pygments_lexer": "ipython3",
   "version": "3.7.3"
  }
 },
 "nbformat": 4,
 "nbformat_minor": 2
}
